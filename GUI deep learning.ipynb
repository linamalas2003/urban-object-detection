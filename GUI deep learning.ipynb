{
 "cells": [
  {
   "cell_type": "code",
   "execution_count": 1,
   "id": "62425e80-eab6-4933-8c4c-860250893444",
   "metadata": {
    "scrolled": true
   },
   "outputs": [
    {
     "name": "stdout",
     "output_type": "stream",
     "text": [
      "Requirement already satisfied: torch in c:\\users\\linam\\anaconda3\\lib\\site-packages (2.0.0)\n",
      "Requirement already satisfied: torchvision in c:\\users\\linam\\anaconda3\\lib\\site-packages (0.15.1)\n",
      "Requirement already satisfied: pillow in c:\\users\\linam\\anaconda3\\lib\\site-packages (10.2.0)\n",
      "Note: you may need to restart the kernel to use updated packages.\n"
     ]
    },
    {
     "name": "stderr",
     "output_type": "stream",
     "text": [
      "WARNING: Skipping C:\\Users\\linam\\anaconda3\\Lib\\site-packages\\scipy-1.13.0.dist-info due to invalid metadata entry 'name'\n",
      "WARNING: Skipping C:\\Users\\linam\\anaconda3\\Lib\\site-packages\\scipy-1.13.0.dist-info due to invalid metadata entry 'name'\n",
      "ERROR: Could not find a version that satisfies the requirement tkinter (from versions: none)\n",
      "ERROR: No matching distribution found for tkinter\n",
      "WARNING: Skipping C:\\Users\\linam\\anaconda3\\Lib\\site-packages\\scipy-1.13.0.dist-info due to invalid metadata entry 'name'\n"
     ]
    }
   ],
   "source": [
    "pip install torch torchvision pillow tkinter ultralytics\n"
   ]
  },
  {
   "cell_type": "code",
   "execution_count": 8,
   "id": "890b72d6-154e-4ae5-a48b-2858b6a282bf",
   "metadata": {},
   "outputs": [
    {
     "name": "stdout",
     "output_type": "stream",
     "text": [
      "Requirement already satisfied: ultralytics in c:\\users\\linam\\anaconda3\\lib\\site-packages (8.2.28)\n",
      "Requirement already satisfied: matplotlib>=3.3.0 in c:\\users\\linam\\anaconda3\\lib\\site-packages (from ultralytics) (3.7.2)\n",
      "Requirement already satisfied: opencv-python>=4.6.0 in c:\\users\\linam\\anaconda3\\lib\\site-packages (from ultralytics) (4.10.0.82)\n",
      "Requirement already satisfied: pillow>=7.1.2 in c:\\users\\linam\\anaconda3\\lib\\site-packages (from ultralytics) (10.2.0)\n",
      "Requirement already satisfied: pyyaml>=5.3.1 in c:\\users\\linam\\anaconda3\\lib\\site-packages (from ultralytics) (6.0.1)\n",
      "Requirement already satisfied: requests>=2.23.0 in c:\\users\\linam\\anaconda3\\lib\\site-packages (from ultralytics) (2.31.0)\n",
      "Requirement already satisfied: scipy>=1.4.1 in c:\\users\\linam\\anaconda3\\lib\\site-packages (from ultralytics) (1.10.1)\n",
      "Requirement already satisfied: torch>=1.8.0 in c:\\users\\linam\\anaconda3\\lib\\site-packages (from ultralytics) (2.0.0)\n",
      "Requirement already satisfied: torchvision>=0.9.0 in c:\\users\\linam\\anaconda3\\lib\\site-packages (from ultralytics) (0.15.1)\n",
      "Requirement already satisfied: tqdm>=4.64.0 in c:\\users\\linam\\anaconda3\\lib\\site-packages (from ultralytics) (4.65.0)\n",
      "Requirement already satisfied: psutil in c:\\users\\linam\\anaconda3\\lib\\site-packages (from ultralytics) (5.9.0)\n",
      "Requirement already satisfied: py-cpuinfo in c:\\users\\linam\\anaconda3\\lib\\site-packages (from ultralytics) (9.0.0)\n",
      "Requirement already satisfied: pandas>=1.1.4 in c:\\users\\linam\\anaconda3\\lib\\site-packages (from ultralytics) (2.0.3)\n",
      "Requirement already satisfied: seaborn>=0.11.0 in c:\\users\\linam\\anaconda3\\lib\\site-packages (from ultralytics) (0.12.2)\n",
      "Requirement already satisfied: ultralytics-thop>=0.2.5 in c:\\users\\linam\\anaconda3\\lib\\site-packages (from ultralytics) (0.2.7)\n",
      "Requirement already satisfied: contourpy>=1.0.1 in c:\\users\\linam\\anaconda3\\lib\\site-packages (from matplotlib>=3.3.0->ultralytics) (1.2.0)\n",
      "Requirement already satisfied: cycler>=0.10 in c:\\users\\linam\\anaconda3\\lib\\site-packages (from matplotlib>=3.3.0->ultralytics) (0.11.0)\n",
      "Requirement already satisfied: fonttools>=4.22.0 in c:\\users\\linam\\anaconda3\\lib\\site-packages (from matplotlib>=3.3.0->ultralytics) (4.25.0)\n",
      "Requirement already satisfied: kiwisolver>=1.0.1 in c:\\users\\linam\\anaconda3\\lib\\site-packages (from matplotlib>=3.3.0->ultralytics) (1.4.4)\n",
      "Requirement already satisfied: numpy>=1.20 in c:\\users\\linam\\anaconda3\\lib\\site-packages (from matplotlib>=3.3.0->ultralytics) (1.23.5)\n",
      "Requirement already satisfied: packaging>=20.0 in c:\\users\\linam\\anaconda3\\lib\\site-packages (from matplotlib>=3.3.0->ultralytics) (23.1)\n",
      "Requirement already satisfied: pyparsing<3.1,>=2.3.1 in c:\\users\\linam\\anaconda3\\lib\\site-packages (from matplotlib>=3.3.0->ultralytics) (3.0.9)\n",
      "Requirement already satisfied: python-dateutil>=2.7 in c:\\users\\linam\\anaconda3\\lib\\site-packages (from matplotlib>=3.3.0->ultralytics) (2.8.2)\n",
      "Requirement already satisfied: pytz>=2020.1 in c:\\users\\linam\\anaconda3\\lib\\site-packages (from pandas>=1.1.4->ultralytics) (2023.3.post1)\n",
      "Requirement already satisfied: tzdata>=2022.1 in c:\\users\\linam\\anaconda3\\lib\\site-packages (from pandas>=1.1.4->ultralytics) (2023.3)\n",
      "Requirement already satisfied: charset-normalizer<4,>=2 in c:\\users\\linam\\anaconda3\\lib\\site-packages (from requests>=2.23.0->ultralytics) (2.0.4)\n",
      "Requirement already satisfied: idna<4,>=2.5 in c:\\users\\linam\\anaconda3\\lib\\site-packages (from requests>=2.23.0->ultralytics) (3.4)\n",
      "Requirement already satisfied: urllib3<3,>=1.21.1 in c:\\users\\linam\\anaconda3\\lib\\site-packages (from requests>=2.23.0->ultralytics) (2.0.7)\n",
      "Requirement already satisfied: certifi>=2017.4.17 in c:\\users\\linam\\anaconda3\\lib\\site-packages (from requests>=2.23.0->ultralytics) (2024.2.2)\n",
      "Requirement already satisfied: filelock in c:\\users\\linam\\anaconda3\\lib\\site-packages (from torch>=1.8.0->ultralytics) (3.13.1)\n",
      "Requirement already satisfied: typing-extensions in c:\\users\\linam\\anaconda3\\lib\\site-packages (from torch>=1.8.0->ultralytics) (4.9.0)\n",
      "Requirement already satisfied: sympy in c:\\users\\linam\\anaconda3\\lib\\site-packages (from torch>=1.8.0->ultralytics) (1.12)\n",
      "Requirement already satisfied: networkx in c:\\users\\linam\\anaconda3\\lib\\site-packages (from torch>=1.8.0->ultralytics) (3.1)\n",
      "Requirement already satisfied: jinja2 in c:\\users\\linam\\anaconda3\\lib\\site-packages (from torch>=1.8.0->ultralytics) (3.1.3)\n",
      "Requirement already satisfied: colorama in c:\\users\\linam\\anaconda3\\lib\\site-packages (from tqdm>=4.64.0->ultralytics) (0.4.6)\n",
      "Requirement already satisfied: six>=1.5 in c:\\users\\linam\\anaconda3\\lib\\site-packages (from python-dateutil>=2.7->matplotlib>=3.3.0->ultralytics) (1.16.0)\n",
      "Requirement already satisfied: MarkupSafe>=2.0 in c:\\users\\linam\\anaconda3\\lib\\site-packages (from jinja2->torch>=1.8.0->ultralytics) (2.1.3)\n",
      "Requirement already satisfied: mpmath>=0.19 in c:\\users\\linam\\anaconda3\\lib\\site-packages (from sympy->torch>=1.8.0->ultralytics) (1.3.0)\n",
      "Note: you may need to restart the kernel to use updated packages.\n"
     ]
    },
    {
     "name": "stderr",
     "output_type": "stream",
     "text": [
      "WARNING: Skipping C:\\Users\\linam\\anaconda3\\Lib\\site-packages\\scipy-1.13.0.dist-info due to invalid metadata entry 'name'\n",
      "WARNING: Skipping C:\\Users\\linam\\anaconda3\\Lib\\site-packages\\scipy-1.13.0.dist-info due to invalid metadata entry 'name'\n",
      "WARNING: Skipping C:\\Users\\linam\\anaconda3\\Lib\\site-packages\\scipy-1.13.0.dist-info due to invalid metadata entry 'name'\n",
      "WARNING: Skipping C:\\Users\\linam\\anaconda3\\Lib\\site-packages\\scipy-1.13.0.dist-info due to invalid metadata entry 'name'\n"
     ]
    }
   ],
   "source": [
    "pip install ultralytics\n"
   ]
  },
  {
   "cell_type": "code",
   "execution_count": 2,
   "id": "cb292ca7-259a-4c95-8b6a-ceb3e611ff4b",
   "metadata": {},
   "outputs": [
    {
     "name": "stdout",
     "output_type": "stream",
     "text": [
      "Requirement already satisfied: pyyaml==5.1 in c:\\users\\linam\\anaconda3\\lib\\site-packages (5.1)\n"
     ]
    },
    {
     "name": "stderr",
     "output_type": "stream",
     "text": [
      "WARNING: Skipping C:\\Users\\linam\\anaconda3\\Lib\\site-packages\\scipy-1.13.0.dist-info due to invalid metadata entry 'name'\n",
      "WARNING: Skipping C:\\Users\\linam\\anaconda3\\Lib\\site-packages\\scipy-1.13.0.dist-info due to invalid metadata entry 'name'\n",
      "WARNING: Skipping C:\\Users\\linam\\anaconda3\\Lib\\site-packages\\scipy-1.13.0.dist-info due to invalid metadata entry 'name'\n",
      "WARNING: Skipping C:\\Users\\linam\\anaconda3\\Lib\\site-packages\\scipy-1.13.0.dist-info due to invalid metadata entry 'name'\n"
     ]
    },
    {
     "name": "stdout",
     "output_type": "stream",
     "text": [
      "Requirement already satisfied: torch in c:\\users\\linam\\anaconda3\\lib\\site-packages (2.0.0)\n",
      "Requirement already satisfied: torchvision in c:\\users\\linam\\anaconda3\\lib\\site-packages (0.15.1)\n",
      "Requirement already satisfied: opencv-python in c:\\users\\linam\\anaconda3\\lib\\site-packages (4.10.0.82)\n",
      "Requirement already satisfied: filelock in c:\\users\\linam\\anaconda3\\lib\\site-packages (from torch) (3.13.1)\n",
      "Requirement already satisfied: typing-extensions in c:\\users\\linam\\anaconda3\\lib\\site-packages (from torch) (4.9.0)\n",
      "Requirement already satisfied: sympy in c:\\users\\linam\\anaconda3\\lib\\site-packages (from torch) (1.12)\n",
      "Requirement already satisfied: networkx in c:\\users\\linam\\anaconda3\\lib\\site-packages (from torch) (3.1)\n",
      "Requirement already satisfied: jinja2 in c:\\users\\linam\\anaconda3\\lib\\site-packages (from torch) (3.1.3)\n",
      "Requirement already satisfied: numpy in c:\\users\\linam\\anaconda3\\lib\\site-packages (from torchvision) (1.23.5)\n",
      "Requirement already satisfied: requests in c:\\users\\linam\\anaconda3\\lib\\site-packages (from torchvision) (2.31.0)\n",
      "Requirement already satisfied: pillow!=8.3.*,>=5.3.0 in c:\\users\\linam\\anaconda3\\lib\\site-packages (from torchvision) (10.2.0)\n",
      "Requirement already satisfied: MarkupSafe>=2.0 in c:\\users\\linam\\anaconda3\\lib\\site-packages (from jinja2->torch) (2.1.3)\n",
      "Requirement already satisfied: charset-normalizer<4,>=2 in c:\\users\\linam\\anaconda3\\lib\\site-packages (from requests->torchvision) (2.0.4)\n",
      "Requirement already satisfied: idna<4,>=2.5 in c:\\users\\linam\\anaconda3\\lib\\site-packages (from requests->torchvision) (3.4)\n",
      "Requirement already satisfied: urllib3<3,>=1.21.1 in c:\\users\\linam\\anaconda3\\lib\\site-packages (from requests->torchvision) (2.0.7)\n",
      "Requirement already satisfied: certifi>=2017.4.17 in c:\\users\\linam\\anaconda3\\lib\\site-packages (from requests->torchvision) (2024.2.2)\n",
      "Requirement already satisfied: mpmath>=0.19 in c:\\users\\linam\\anaconda3\\lib\\site-packages (from sympy->torch) (1.3.0)\n"
     ]
    },
    {
     "name": "stderr",
     "output_type": "stream",
     "text": [
      "WARNING: Skipping C:\\Users\\linam\\anaconda3\\Lib\\site-packages\\scipy-1.13.0.dist-info due to invalid metadata entry 'name'\n",
      "WARNING: Skipping C:\\Users\\linam\\anaconda3\\Lib\\site-packages\\scipy-1.13.0.dist-info due to invalid metadata entry 'name'\n",
      "WARNING: Skipping C:\\Users\\linam\\anaconda3\\Lib\\site-packages\\scipy-1.13.0.dist-info due to invalid metadata entry 'name'\n",
      "WARNING: Skipping C:\\Users\\linam\\anaconda3\\Lib\\site-packages\\scipy-1.13.0.dist-info due to invalid metadata entry 'name'\n"
     ]
    },
    {
     "name": "stdout",
     "output_type": "stream",
     "text": [
      "Collecting git+https://github.com/facebookresearch/detectron2.git\n",
      "  Cloning https://github.com/facebookresearch/detectron2.git to c:\\users\\linam\\appdata\\local\\temp\\pip-req-build-1j4i5fla\n"
     ]
    },
    {
     "name": "stderr",
     "output_type": "stream",
     "text": [
      "WARNING: Skipping C:\\Users\\linam\\anaconda3\\Lib\\site-packages\\scipy-1.13.0.dist-info due to invalid metadata entry 'name'\n",
      "WARNING: Skipping C:\\Users\\linam\\anaconda3\\Lib\\site-packages\\scipy-1.13.0.dist-info due to invalid metadata entry 'name'\n",
      "  ERROR: Error [WinError 2] The system cannot find the file specified while executing command git version\n",
      "ERROR: Cannot find command 'git' - do you have 'git' installed and in your PATH?\n",
      "WARNING: Skipping C:\\Users\\linam\\anaconda3\\Lib\\site-packages\\scipy-1.13.0.dist-info due to invalid metadata entry 'name'\n"
     ]
    }
   ],
   "source": [
    "# Install dependencies\n",
    "!pip install pyyaml==5.1\n",
    "!pip install torch torchvision opencv-python\n",
    "\n",
    "# Install Detectron2\n",
    "!pip install git+https://github.com/facebookresearch/detectron2.git\n"
   ]
  },
  {
   "cell_type": "code",
   "execution_count": 3,
   "id": "018f5ebd-5cba-4ded-b9ec-dbcef8112c2a",
   "metadata": {},
   "outputs": [
    {
     "name": "stdout",
     "output_type": "stream",
     "text": [
      "Requirement already satisfied: torch in c:\\users\\linam\\anaconda3\\lib\\site-packages (2.0.0)\n",
      "Requirement already satisfied: torchvision in c:\\users\\linam\\anaconda3\\lib\\site-packages (0.15.1)\n",
      "Requirement already satisfied: opencv-python in c:\\users\\linam\\anaconda3\\lib\\site-packages (4.10.0.82)\n",
      "Requirement already satisfied: pyyaml==5.1 in c:\\users\\linam\\anaconda3\\lib\\site-packages (5.1)\n",
      "Requirement already satisfied: filelock in c:\\users\\linam\\anaconda3\\lib\\site-packages (from torch) (3.13.1)\n",
      "Requirement already satisfied: typing-extensions in c:\\users\\linam\\anaconda3\\lib\\site-packages (from torch) (4.9.0)\n",
      "Requirement already satisfied: sympy in c:\\users\\linam\\anaconda3\\lib\\site-packages (from torch) (1.12)\n",
      "Requirement already satisfied: networkx in c:\\users\\linam\\anaconda3\\lib\\site-packages (from torch) (3.1)\n",
      "Requirement already satisfied: jinja2 in c:\\users\\linam\\anaconda3\\lib\\site-packages (from torch) (3.1.3)\n",
      "Requirement already satisfied: numpy in c:\\users\\linam\\anaconda3\\lib\\site-packages (from torchvision) (1.23.5)\n",
      "Requirement already satisfied: requests in c:\\users\\linam\\anaconda3\\lib\\site-packages (from torchvision) (2.31.0)\n",
      "Requirement already satisfied: pillow!=8.3.*,>=5.3.0 in c:\\users\\linam\\anaconda3\\lib\\site-packages (from torchvision) (10.2.0)\n",
      "Requirement already satisfied: MarkupSafe>=2.0 in c:\\users\\linam\\anaconda3\\lib\\site-packages (from jinja2->torch) (2.1.3)\n",
      "Requirement already satisfied: charset-normalizer<4,>=2 in c:\\users\\linam\\anaconda3\\lib\\site-packages (from requests->torchvision) (2.0.4)\n",
      "Requirement already satisfied: idna<4,>=2.5 in c:\\users\\linam\\anaconda3\\lib\\site-packages (from requests->torchvision) (3.4)\n",
      "Requirement already satisfied: urllib3<3,>=1.21.1 in c:\\users\\linam\\anaconda3\\lib\\site-packages (from requests->torchvision) (2.0.7)\n",
      "Requirement already satisfied: certifi>=2017.4.17 in c:\\users\\linam\\anaconda3\\lib\\site-packages (from requests->torchvision) (2024.2.2)\n",
      "Requirement already satisfied: mpmath>=0.19 in c:\\users\\linam\\anaconda3\\lib\\site-packages (from sympy->torch) (1.3.0)\n"
     ]
    },
    {
     "name": "stderr",
     "output_type": "stream",
     "text": [
      "WARNING: Skipping C:\\Users\\linam\\anaconda3\\Lib\\site-packages\\scipy-1.13.0.dist-info due to invalid metadata entry 'name'\n",
      "WARNING: Skipping C:\\Users\\linam\\anaconda3\\Lib\\site-packages\\scipy-1.13.0.dist-info due to invalid metadata entry 'name'\n",
      "WARNING: Skipping C:\\Users\\linam\\anaconda3\\Lib\\site-packages\\scipy-1.13.0.dist-info due to invalid metadata entry 'name'\n",
      "WARNING: Skipping C:\\Users\\linam\\anaconda3\\Lib\\site-packages\\scipy-1.13.0.dist-info due to invalid metadata entry 'name'\n"
     ]
    }
   ],
   "source": [
    "!pip install torch torchvision opencv-python pyyaml==5.1\n"
   ]
  },
  {
   "cell_type": "code",
   "execution_count": 4,
   "id": "d64aeae4-0355-461d-a5ae-fba75680b9d6",
   "metadata": {
    "scrolled": true
   },
   "outputs": [
    {
     "name": "stdout",
     "output_type": "stream",
     "text": [
      "Looking in links: https://dl.fbaipublicfiles.com/detectron2/wheels/cu102/torch1.8/index.html\n"
     ]
    },
    {
     "name": "stderr",
     "output_type": "stream",
     "text": [
      "WARNING: Skipping C:\\Users\\linam\\anaconda3\\Lib\\site-packages\\scipy-1.13.0.dist-info due to invalid metadata entry 'name'\n",
      "WARNING: Skipping C:\\Users\\linam\\anaconda3\\Lib\\site-packages\\scipy-1.13.0.dist-info due to invalid metadata entry 'name'\n",
      "ERROR: Could not find a version that satisfies the requirement detectron2 (from versions: none)\n",
      "ERROR: No matching distribution found for detectron2\n",
      "WARNING: Skipping C:\\Users\\linam\\anaconda3\\Lib\\site-packages\\scipy-1.13.0.dist-info due to invalid metadata entry 'name'\n"
     ]
    }
   ],
   "source": [
    "!pip install detectron2 -f https://dl.fbaipublicfiles.com/detectron2/wheels/cu102/torch1.8/index.html\n"
   ]
  },
  {
   "cell_type": "code",
   "execution_count": 7,
   "id": "d0b5619f-681c-4cc3-9ec6-49702f21e974",
   "metadata": {},
   "outputs": [
    {
     "name": "stdout",
     "output_type": "stream",
     "text": [
      "Requirement already satisfied: torch in c:\\users\\linam\\anaconda3\\lib\\site-packages (2.0.0)\n",
      "Requirement already satisfied: torchvision in c:\\users\\linam\\anaconda3\\lib\\site-packages (0.15.1)\n",
      "Requirement already satisfied: opencv-python in c:\\users\\linam\\anaconda3\\lib\\site-packages (4.10.0.82)\n",
      "Requirement already satisfied: pyyaml==5.1 in c:\\users\\linam\\anaconda3\\lib\\site-packages (5.1)\n",
      "Requirement already satisfied: filelock in c:\\users\\linam\\anaconda3\\lib\\site-packages (from torch) (3.13.1)\n",
      "Requirement already satisfied: typing-extensions in c:\\users\\linam\\anaconda3\\lib\\site-packages (from torch) (4.9.0)\n",
      "Requirement already satisfied: sympy in c:\\users\\linam\\anaconda3\\lib\\site-packages (from torch) (1.12)\n",
      "Requirement already satisfied: networkx in c:\\users\\linam\\anaconda3\\lib\\site-packages (from torch) (3.1)\n",
      "Requirement already satisfied: jinja2 in c:\\users\\linam\\anaconda3\\lib\\site-packages (from torch) (3.1.3)\n",
      "Requirement already satisfied: numpy in c:\\users\\linam\\anaconda3\\lib\\site-packages (from torchvision) (1.23.5)\n",
      "Requirement already satisfied: requests in c:\\users\\linam\\anaconda3\\lib\\site-packages (from torchvision) (2.31.0)\n",
      "Requirement already satisfied: pillow!=8.3.*,>=5.3.0 in c:\\users\\linam\\anaconda3\\lib\\site-packages (from torchvision) (10.2.0)\n",
      "Requirement already satisfied: MarkupSafe>=2.0 in c:\\users\\linam\\anaconda3\\lib\\site-packages (from jinja2->torch) (2.1.3)\n",
      "Requirement already satisfied: charset-normalizer<4,>=2 in c:\\users\\linam\\anaconda3\\lib\\site-packages (from requests->torchvision) (2.0.4)\n",
      "Requirement already satisfied: idna<4,>=2.5 in c:\\users\\linam\\anaconda3\\lib\\site-packages (from requests->torchvision) (3.4)\n",
      "Requirement already satisfied: urllib3<3,>=1.21.1 in c:\\users\\linam\\anaconda3\\lib\\site-packages (from requests->torchvision) (2.0.7)\n",
      "Requirement already satisfied: certifi>=2017.4.17 in c:\\users\\linam\\anaconda3\\lib\\site-packages (from requests->torchvision) (2024.2.2)\n",
      "Requirement already satisfied: mpmath>=0.19 in c:\\users\\linam\\anaconda3\\lib\\site-packages (from sympy->torch) (1.3.0)\n"
     ]
    },
    {
     "name": "stderr",
     "output_type": "stream",
     "text": [
      "WARNING: Skipping C:\\Users\\linam\\anaconda3\\Lib\\site-packages\\scipy-1.13.0.dist-info due to invalid metadata entry 'name'\n",
      "WARNING: Skipping C:\\Users\\linam\\anaconda3\\Lib\\site-packages\\scipy-1.13.0.dist-info due to invalid metadata entry 'name'\n",
      "WARNING: Skipping C:\\Users\\linam\\anaconda3\\Lib\\site-packages\\scipy-1.13.0.dist-info due to invalid metadata entry 'name'\n",
      "WARNING: Skipping C:\\Users\\linam\\anaconda3\\Lib\\site-packages\\scipy-1.13.0.dist-info due to invalid metadata entry 'name'\n"
     ]
    }
   ],
   "source": [
    "!pip install torch torchvision opencv-python pyyaml==5.1\n"
   ]
  },
  {
   "cell_type": "code",
   "execution_count": 4,
   "id": "f703dc6b-ffa4-4085-86e0-48de099b1459",
   "metadata": {},
   "outputs": [],
   "source": [
    "\n",
    "# note that the gui only works on jupyter and im having problems installing the other model so i will comment the implementation of the detectron model\n",
    "import tkinter as tk\n",
    "from tkinter import filedialog, Text\n",
    "from PIL import Image, ImageTk\n",
    "import torch\n",
    "import torchvision.transforms as transforms\n",
    "from ultralytics import YOLO\n",
    "\"\"\"\n",
    "import detectron2\n",
    "from detectron2.engine import DefaultPredictor\n",
    "from detectron2.config import get_cfg\n",
    "from detectron2.model_zoo import model_zoo\"\"\"\n",
    "import cv2\n",
    "import numpy as np\n",
    "\n",
    "class ObjectDetectionApp:\n",
    "    def __init__(self, root):\n",
    "        self.root = root\n",
    "        self.root.title(\"Object Detection App\")\n",
    "\n",
    "        self.device = torch.device('cuda' if torch.cuda.is_available() else 'cpu')\n",
    "        \n",
    "        self.image_path = tk.StringVar()\n",
    "        self.model_path = tk.StringVar()\n",
    "\n",
    "        tk.Label(root, text=\"Image Path:\").pack()\n",
    "        self.image_entry = tk.Entry(root, textvariable=self.image_path, width=50)\n",
    "        self.image_entry.pack()\n",
    "        \n",
    "        tk.Button(root, text=\"Browse Image\", command=self.browse_image).pack()\n",
    "\n",
    "        tk.Label(root, text=\"Model Path:\").pack()\n",
    "        self.model_entry = tk.Entry(root, textvariable=self.model_path, width=50)\n",
    "        self.model_entry.pack()\n",
    "        \n",
    "        tk.Button(root, text=\"Browse Model\", command=self.browse_model).pack()\n",
    "\n",
    "        tk.Label(root, text=\"Model Type:\").pack()\n",
    "        self.model_type = tk.StringVar(value=\"YOLOv8\")\n",
    "        tk.Radiobutton(root, text=\"YOLOv8\", variable=self.model_type, value=\"YOLOv8\").pack(anchor=tk.W)\n",
    "        tk.Radiobutton(root, text=\"Detectron2\", variable=self.model_type, value=\"Detectron2\").pack(anchor=tk.W)\n",
    "\n",
    "        self.image_label = tk.Label(root)\n",
    "        self.image_label.pack()\n",
    "\n",
    "        tk.Button(root, text=\"Detect\", command=self.predict).pack()\n",
    "\n",
    "    def browse_image(self):\n",
    "        file_path = filedialog.askopenfilename()\n",
    "        self.image_path.set(file_path)\n",
    "        self.load_image(file_path)\n",
    "\n",
    "    def browse_model(self):\n",
    "        file_path = filedialog.askopenfilename()\n",
    "        self.model_path.set(file_path)\n",
    "\n",
    "    def load_image(self, file_path):\n",
    "        image = Image.open(file_path)\n",
    "        image = image.resize((600, 400), Image.LANCZOS)\n",
    "        photo = ImageTk.PhotoImage(image)\n",
    "        self.image_label.config(image=photo)\n",
    "        self.image_label.image = photo\n",
    "\n",
    "    def load_model(self, model_path, model_type):\n",
    "        if model_type == \"YOLOv8\":\n",
    "            self.model = YOLO(model_path)\n",
    "        \n",
    "        elif model_type == \"Detectron2\":\n",
    "            cfg = get_cfg()\n",
    "            cfg.merge_from_file(model_zoo.get_config_file(\"COCO-InstanceSegmentation/mask_rcnn_R_50_FPN_3x.yaml\"))\n",
    "            cfg.MODEL.ROI_HEADS.SCORE_THRESH_TEST = 0.5\n",
    "            cfg.MODEL.WEIGHTS = model_path\n",
    "            self.model = DefaultPredictor(cfg)\n",
    "\n",
    "    def predict(self):\n",
    "        image_path = self.image_path.get()\n",
    "        model_path = self.model_path.get()\n",
    "        model_type = self.model_type.get()\n",
    "\n",
    "        if not image_path or not model_path:\n",
    "            print(\"Please load an image and a model first.\")\n",
    "            return\n",
    "\n",
    "        self.load_model(model_path, model_type)\n",
    "        \n",
    "        image = Image.open(image_path)\n",
    "        image_cv = cv2.cvtColor(np.array(image), cv2.COLOR_RGB2BGR)\n",
    "\n",
    "        if model_type == \"YOLOv8\":\n",
    "            results = self.model(image_cv)\n",
    "            result_img = results[0].plot()\n",
    "        elif model_type == \"Detectron2\":\n",
    "            outputs = self.model(image_cv)\n",
    "            v = detectron2.utils.visualizer.Visualizer(image_cv[:, :, ::-1], scale=1.2)\n",
    "            out = v.draw_instance_predictions(outputs[\"instances\"].to(\"cpu\"))\n",
    "            result_img = out.get_image()[:, :, ::-1]\n",
    "        \n",
    "        result_image = Image.fromarray(result_img)\n",
    "        result_image = result_image.resize((600, 400), Image.LANCZOS)\n",
    "        result_photo = ImageTk.PhotoImage(result_image)\n",
    "        self.image_label.config(image=result_photo)\n",
    "        self.image_label.image = result_photo\n",
    "\n",
    "if __name__ == \"__main__\":\n",
    "    root = tk.Tk()\n",
    "    app = ObjectDetectionApp(root)\n",
    "    root.mainloop()\n"
   ]
  }
 ],
 "metadata": {
  "kernelspec": {
   "display_name": "Python 3 (ipykernel)",
   "language": "python",
   "name": "python3"
  },
  "language_info": {
   "codemirror_mode": {
    "name": "ipython",
    "version": 3
   },
   "file_extension": ".py",
   "mimetype": "text/x-python",
   "name": "python",
   "nbconvert_exporter": "python",
   "pygments_lexer": "ipython3",
   "version": "3.11.7"
  }
 },
 "nbformat": 4,
 "nbformat_minor": 5
}
